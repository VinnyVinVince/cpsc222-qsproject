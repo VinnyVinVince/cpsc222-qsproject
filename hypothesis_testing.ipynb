{
 "cells": [
  {
   "cell_type": "markdown",
   "id": "eebe065f-7813-4d0c-832d-f9d9508d5f77",
   "metadata": {},
   "source": [
    "# Discord Data Hypothesis Testing"
   ]
  },
  {
   "cell_type": "markdown",
   "id": "3a7869db-8a8a-418b-a6a5-176d18c31b71",
   "metadata": {},
   "source": [
    "### Introduction to the Data\n",
    "The dataset used is a dataset of the message histories of Vincent and Kevin on a particular server/direct message on Discord.  \n",
    "The dataset's target is mainly the server with the most history as possible.  \n",
    "Any message log on discord is recorded as a csv with the following attributes:  \n",
    "1. Their ID's\n",
    "1. Their Timestamp\n",
    "1. Their Contents of the message\n",
    "    - Contents are usually just the words in the message or any mentions\n",
    "1. Their Attachments of the message\n",
    "    - A message may not have any attachments\n",
    "\n",
    "The follow attributes extracted from the data are as follows:\n",
    "1. ID of the message\n",
    "    - The higher the ID, the older the message\n",
    "1. Timestamp of the message\n",
    "    - Timestamps consist of the following:\n",
    "        - The Date of the message\n",
    "        - The exact time of the message\n",
    "1. The length of the message\n",
    "    - We find the length by how many characters there are in the in the message\n",
    "1. Punctuation count of the message\n",
    "    - Any of the following count as punctuation in the dataset: `., ?, !`"
   ]
  },
  {
   "cell_type": "markdown",
   "id": "bd2873a8-bc2a-4224-b360-d8af21f04819",
   "metadata": {},
   "source": [
    "### Cleaning the Data\n",
    "Since the attributes we are taking are the `ID, Timestamp, message length, and punctuation`, we need to clean the data to get a dataset with these attributes."
   ]
  },
  {
   "cell_type": "code",
   "execution_count": 1,
   "id": "4b96d31b-d372-49d2-a535-42dc61b6a4c4",
   "metadata": {},
   "outputs": [
    {
     "name": "stdout",
     "output_type": "stream",
     "text": [
      "1. Kevin's Message Data:\n",
      "                      ID                         Timestamp  Message Length  \\\n",
      "0     886368172259823626  2021-09-11 21:50:40.191000+00:00              25   \n",
      "1     886368155776217138  2021-09-11 21:50:36.261000+00:00              25   \n",
      "2     886124701859078165  2021-09-11 05:43:12.324000+00:00              14   \n",
      "3     886124680203882526  2021-09-11 05:43:07.161000+00:00               3   \n",
      "4     885205982018424892  2021-09-08 16:52:32.445000+00:00               4   \n",
      "...                  ...                               ...             ...   \n",
      "9881  229739861148434432  2016-09-25 23:04:11.258000+00:00              49   \n",
      "9882  229739761722458112  2016-09-25 23:03:47.553000+00:00              50   \n",
      "9883  229734380916965377  2016-09-25 22:42:24.669000+00:00              43   \n",
      "9884  229733647358492673  2016-09-25 22:39:29.775000+00:00              27   \n",
      "9885  229733601850163211  2016-09-25 22:39:18.925000+00:00              10   \n",
      "\n",
      "      Punctuation Count  Has Attachments  \n",
      "0                     0                0  \n",
      "1                     0                0  \n",
      "2                     0                0  \n",
      "3                     0                0  \n",
      "4                     0                0  \n",
      "...                 ...              ...  \n",
      "9881                  3                0  \n",
      "9882                  3                0  \n",
      "9883                  3                0  \n",
      "9884                  0                0  \n",
      "9885                  0                0  \n",
      "\n",
      "[9886 rows x 5 columns]\n",
      "\n",
      "2. Vincent's Message Data:\n",
      "                       ID                         Timestamp  Message Length  \\\n",
      "0      886706404038160405  2021-09-12 20:14:40.931000+00:00              22   \n",
      "1      886698154043523072  2021-09-12 19:41:53.979000+00:00               3   \n",
      "2      886697579969138688  2021-09-12 19:39:37.109000+00:00              13   \n",
      "3      886697563414216704  2021-09-12 19:39:33.162000+00:00               2   \n",
      "4      886697551363973161  2021-09-12 19:39:30.289000+00:00               7   \n",
      "...                   ...                               ...             ...   \n",
      "55936  242330321452793856  2016-10-30 16:54:10.914000+00:00               6   \n",
      "55937  242330287457959936  2016-10-30 16:54:02.809000+00:00               2   \n",
      "55938  242330207107809280  2016-10-30 16:53:43.652000+00:00               6   \n",
      "55939  242329962755915777  2016-10-30 16:52:45.394000+00:00               6   \n",
      "55940  242305556981874688  2016-10-30 15:15:46.604000+00:00              20   \n",
      "\n",
      "       Punctuation Count  Has Attachments  \n",
      "0                      1                0  \n",
      "1                      0                0  \n",
      "2                      0                0  \n",
      "3                      0                0  \n",
      "4                      0                0  \n",
      "...                  ...              ...  \n",
      "55936                  0                0  \n",
      "55937                  0                0  \n",
      "55938                  0                0  \n",
      "55939                  0                0  \n",
      "55940                  0                0  \n",
      "\n",
      "[55941 rows x 5 columns]\n"
     ]
    }
   ],
   "source": [
    "import importlib\n",
    "import utils\n",
    "importlib.reload(utils)\n",
    "import pandas as pd\n",
    "\n",
    "kev_file = \"kev_data\"                                 # name of the file\n",
    "kevin_df = pd.read_csv(kev_file + \".csv\")             # read in the discord dataset\n",
    "\n",
    "vin_file = \"vin_data\"\n",
    "vincent_df = pd.read_csv(vin_file + \"_cleaned.csv\")\n",
    "\n",
    "utils.clean_data(kevin_df, kev_file)\n",
    "# utils.clean_data(vincent_df, vin_file)\n",
    "\n",
    "print(\"1. Kevin's Message Data:\")\n",
    "print(kevin_df)\n",
    "print()\n",
    "print(\"2. Vincent's Message Data:\")\n",
    "print(vincent_df)"
   ]
  },
  {
   "cell_type": "markdown",
   "id": "eb87f940-c029-4c2a-b400-c99447f32752",
   "metadata": {},
   "source": [
    "## Splitting and Aggregating the Data\n",
    "Both of the cleaned dataframes will be split down and aggregated:\n",
    "1. Split by the Year then by the month for each of the years\n",
    "    * Each year will be split into different dataframes\n",
    "1. Aggregated by the numeric sum of the column"
   ]
  },
  {
   "cell_type": "code",
   "execution_count": 2,
   "id": "9fd913c4-e584-4f61-8fbd-c7a6c9d1cc71",
   "metadata": {},
   "outputs": [
    {
     "name": "stdout",
     "output_type": "stream",
     "text": [
      "Kevin's 2018 Aggregated Message Data:\n",
      "   Month Message Length Punctuation Count Attachment Count Data Owner\n",
      "0    Jan            597                10               20      Kevin\n",
      "1    Feb           1804                59               40      Kevin\n",
      "2    Mar           1313                30                9      Kevin\n",
      "3    Apr           2684                78               19      Kevin\n",
      "4    May           2422               119               36      Kevin\n",
      "5    Jun           1115                47                7      Kevin\n",
      "6    Jul          12758               388               61      Kevin\n",
      "7    Aug           3814               126              103      Kevin\n",
      "8    Sep           2771               106               51      Kevin\n",
      "9    Oct           1665                79               18      Kevin\n",
      "10   Nov           2714               109                9      Kevin\n",
      "11   Dec           2232                20               14      Kevin\n",
      "\n",
      "Vincent's 2018 Aggregated Message Data:\n",
      "   Month Message Length Punctuation Count Attachment Count Data Owner\n",
      "0    Jan          79202               379               12    Vincent\n",
      "1    Feb          49316               329               14    Vincent\n",
      "2    Mar          29012               173               20    Vincent\n",
      "3    Apr          29687               138               14    Vincent\n",
      "4    May          19664               105               10    Vincent\n",
      "5    Jun          27846               119                6    Vincent\n",
      "6    Jul          47941               189               23    Vincent\n",
      "7    Aug          37150               185                7    Vincent\n",
      "8    Sep          38808               189                4    Vincent\n",
      "9    Oct          68659               487               10    Vincent\n",
      "10   Nov          20551               133                7    Vincent\n",
      "11   Dec          22803                98                9    Vincent\n"
     ]
    }
   ],
   "source": [
    "# now we want to split the data by month for each person\n",
    "# Persons: Kevin, Vincent\n",
    "\n",
    "kevin_list_by_month = utils.split_data(kevin_df, 'Kevin')\n",
    "vincent_list_by_month = utils.split_data(vincent_df, \"Vincent\")\n",
    "            \n",
    "# range is from 2016 - 2021\n",
    "# 0 = 2016\n",
    "# 1 = 2017\n",
    "# 2 = 2018\n",
    "# ...\n",
    "# 5 = 2021\n",
    "\n",
    "# access both of our 2018 data\n",
    "kevin_2018_data = kevin_list_by_month[2]\n",
    "vincent_2018_data = vincent_list_by_month[2]\n",
    "    \n",
    "# print out a sample year\n",
    "print(\"Kevin's 2018 Aggregated Message Data:\")\n",
    "print(kevin_2018_data)          # printing out kevin's the 2018 data as a sample\n",
    "print()\n",
    "print(\"Vincent's 2018 Aggregated Message Data:\")\n",
    "print(vincent_2018_data) "
   ]
  },
  {
   "cell_type": "markdown",
   "id": "dabc5239-3160-4ab3-9a9e-4e18643976bf",
   "metadata": {},
   "source": [
    "### Visualize the Data\n",
    "#### Length of Messages\n",
    "With the dataset above, we want to see how the long messages are over the years"
   ]
  },
  {
   "cell_type": "code",
   "execution_count": 3,
   "id": "f477c4b1-34d8-4b79-bce8-f91cb856e42b",
   "metadata": {},
   "outputs": [
    {
     "data": {
      "image/png": "[encoded data removed]",
      "text/plain": [
       "<Figure size 432x288 with 1 Axes>"
      ]
     },
     "metadata": {
      "needs_background": "light"
     },
     "output_type": "display_data"
    },
    {
     "data": {
      "image/png": "[encoded data removed]",
      "text/plain": [
       "<Figure size 432x288 with 1 Axes>"
      ]
     },
     "metadata": {
      "needs_background": "light"
     },
     "output_type": "display_data"
    }
   ],
   "source": [
    "import matplotlib.pyplot as plt\n",
    "\n",
    "# visualizing the length of messages using kevin's data\n",
    "plt.figure()\n",
    "month_ser = kevin_2018_data[\"Month\"]                                # general use for month access\n",
    "\n",
    "plt.bar(month_ser, kevin_2018_data[\"Message Length\"], facecolor=\"green\")\n",
    "\n",
    "plt.ylim(0, kevin_2018_data[\"Message Length\"].max() + 1000)        # + 1000 to make the max to be seen\n",
    "plt.xlabel(\"Month\")\n",
    "plt.ylabel(\"Message Length\")\n",
    "plt.title(\"Kevin's Message Length in 2018\")\n",
    "plt.show()\n",
    "\n",
    "# visualizing the length of messages using vincent's data\n",
    "plt.figure()\n",
    "plt.bar(month_ser, vincent_2018_data[\"Message Length\"], facecolor=\"blue\")\n",
    "\n",
    "plt.ylim(0, vincent_2018_data[\"Message Length\"].max() + 3000)        # + 1000 to make the max to be seen\n",
    "plt.xlabel(\"Month\")\n",
    "plt.ylabel(\"Message Length\")\n",
    "plt.title(\"Vincent's Message Length in 2018\")\n",
    "plt.show()"
   ]
  },
  {
   "cell_type": "markdown",
   "id": "87f59b3d-5de0-4d32-9f3f-a033939233c3",
   "metadata": {},
   "source": [
    "#### Punctuation of Messages\n",
    "Now we want to see how our punctuation is over the years"
   ]
  },
  {
   "cell_type": "code",
   "execution_count": 4,
   "id": "2a619fb9-ec7f-4a02-b6c6-1e77a1362e86",
   "metadata": {},
   "outputs": [
    {
     "data": {
      "image/png": "[encoded data removed]",
      "text/plain": [
       "<Figure size 432x288 with 1 Axes>"
      ]
     },
     "metadata": {
      "needs_background": "light"
     },
     "output_type": "display_data"
    },
    {
     "data": {
      "image/png": "[encoded data removed]",
      "text/plain": [
       "<Figure size 432x288 with 1 Axes>"
      ]
     },
     "metadata": {
      "needs_background": "light"
     },
     "output_type": "display_data"
    }
   ],
   "source": [
    "# visualizing the punctuation count in a user's message history\n",
    "plt.figure()\n",
    "plt.bar(month_ser, kevin_2018_data[\"Punctuation Count\"], facecolor=\"green\")\n",
    "    \n",
    "plt.ylim(0, kevin_2018_data[\"Punctuation Count\"].max() + 50)\n",
    "plt.xlabel(\"Month\")\n",
    "plt.ylabel(\"Punctuation Count\")\n",
    "plt.title(\"Kevin's Punctuation Count in 2018\")\n",
    "plt.show()\n",
    "\n",
    "# visualizing the length of messages using vincent's data\n",
    "plt.figure()\n",
    "plt.bar(month_ser, vincent_2018_data[\"Punctuation Count\"], facecolor=\"blue\")\n",
    "\n",
    "plt.ylim(0, vincent_2018_data[\"Punctuation Count\"].max() + 50)        # + 1000 to make the max to be seen\n",
    "plt.xlabel(\"Month\")\n",
    "plt.ylabel(\"Punctuation Count\")\n",
    "plt.title(\"Vincent's Punctuation Count in 2018\")\n",
    "plt.show()"
   ]
  },
  {
   "cell_type": "markdown",
   "id": "4e0247ee-1782-416f-b037-db6c154a88a9",
   "metadata": {},
   "source": [
    "### Attachments per message\n",
    "We want to aggregate the data and see how many attachments each of the users have posted in the last 5 years"
   ]
  },
  {
   "cell_type": "code",
   "execution_count": 5,
   "id": "ec8207d4-10c1-4e56-b80a-17c5470bc372",
   "metadata": {},
   "outputs": [
    {
     "data": {
      "image/png": "[encoded data removed]",
      "text/plain": [
       "<Figure size 432x288 with 1 Axes>"
      ]
     },
     "metadata": {
      "needs_background": "light"
     },
     "output_type": "display_data"
    },
    {
     "data": {
      "image/png": "[encoded data removed]",
      "text/plain": [
       "<Figure size 432x288 with 1 Axes>"
      ]
     },
     "metadata": {
      "needs_background": "light"
     },
     "output_type": "display_data"
    }
   ],
   "source": [
    "# visualizing attachments within the cleaned data\n",
    "plt.figure()\n",
    "plt.bar(month_ser, kevin_2018_data[\"Attachment Count\"], facecolor=\"green\")\n",
    "\n",
    "# make the graph look nicer\n",
    "plt.ylim(0, kevin_2018_data[\"Attachment Count\"].max()+ 20)              # increasing the y limit to max graph better to see\n",
    "plt.xlabel(\"Month\")\n",
    "plt.ylabel(\"Attachment Count\")\n",
    "plt.title(\"Kevin's Attachment Count in 2018\")\n",
    "plt.show()\n",
    "\n",
    "# visualizing the length of messages using vincent's data\n",
    "plt.figure()\n",
    "plt.bar(month_ser, vincent_2018_data[\"Attachment Count\"], facecolor=\"blue\")\n",
    "\n",
    "plt.ylim(0, vincent_2018_data[\"Attachment Count\"].max() + 20)\n",
    "plt.xlabel(\"Month\")\n",
    "plt.ylabel(\"Attachment Count\")\n",
    "plt.title(\"Vincent's Attachment Count for 2018\")\n",
    "plt.show()"
   ]
  },
  {
   "cell_type": "markdown",
   "id": "fe9af859-bd70-48e4-b2d5-a5559086b429",
   "metadata": {},
   "source": [
    "# Data Analysis"
   ]
  },
  {
   "cell_type": "markdown",
   "id": "fc9b793b-bf25-43e3-8f88-41bbeba5a07c",
   "metadata": {},
   "source": [
    "### What we want to know\n",
    "With the cleaned data, we want to dive into a few things.\n",
    "1. We want to aggregate our data to see the significant statistics of our data.\n",
    "    - We will also just do a data analysis and create assumptions to test.\n",
    "1. We want to compare our punctuation by years.\n",
    "    - We will need to split the data by year.\n",
    "    - We want to statistically compare two different years.\n",
    "    - For this test, we will compare the earliest year's punctuation and the latest year's punctuation and see how they differ.\n",
    "        - We will do this test per for both datasets\n",
    "        - After the test, we will analyze what it means for our punctuation to change over time.\n",
    "    \n",
    "1. We want to compare each other's message lengths over time.\n",
    "    - We want to see who's message length over the amount of messages is greater.\n",
    "    - For this test, we want to assume that Vincent's average word count is more than Kevin's average word count."
   ]
  },
  {
   "cell_type": "markdown",
   "id": "4bb35431-2d1f-4196-92d9-d9f364b9af21",
   "metadata": {},
   "source": [
    "### Comparing Punctuation"
   ]
  },
  {
   "cell_type": "code",
   "execution_count": null,
   "id": "0557d017-166b-4299-974c-ec5041e41eab",
   "metadata": {},
   "outputs": [],
   "source": []
  },
  {
   "cell_type": "markdown",
   "id": "c9e25d5f-0263-4899-9210-63c1a75b098e",
   "metadata": {},
   "source": [
    "### Comparing Message Lengths"
   ]
  },
  {
   "cell_type": "code",
   "execution_count": null,
   "id": "8234246f-f264-4bb9-a3ae-5572ec1571f6",
   "metadata": {},
   "outputs": [],
   "source": []
  },
  {
   "cell_type": "markdown",
   "id": "237a0979-8519-404f-b015-f6958d70f7c8",
   "metadata": {},
   "source": [
    "# Classification"
   ]
  },
  {
   "cell_type": "code",
   "execution_count": null,
   "id": "b4b6906c-1571-4b2f-a7a6-55df19f6a04e",
   "metadata": {},
   "outputs": [],
   "source": []
  },
  {
   "cell_type": "markdown",
   "id": "461907c4-02db-4511-b6d2-ad06f258fcf9",
   "metadata": {},
   "source": [
    "# Conclusion"
   ]
  },
  {
   "cell_type": "code",
   "execution_count": null,
   "id": "ec4797b1-b468-4fc7-96de-569acb319056",
   "metadata": {},
   "outputs": [],
   "source": []
  }
 ],
 "metadata": {
  "kernelspec": {
   "display_name": "Python 3",
   "language": "python",
   "name": "python3"
  },
  "language_info": {
   "codemirror_mode": {
    "name": "ipython",
    "version": 3
   },
   "file_extension": ".py",
   "mimetype": "text/x-python",
   "name": "python",
   "nbconvert_exporter": "python",
   "pygments_lexer": "ipython3",
   "version": "3.8.8"
  }
 },
 "nbformat": 4,
 "nbformat_minor": 5
}
