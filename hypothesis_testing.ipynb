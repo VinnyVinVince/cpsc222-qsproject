{
 "cells": [
  {
   "cell_type": "markdown",
   "id": "eebe065f-7813-4d0c-832d-f9d9508d5f77",
   "metadata": {},
   "source": [
    "# Discord Data Hypothesis Testing"
   ]
  },
  {
   "cell_type": "markdown",
   "id": "3a7869db-8a8a-418b-a6a5-176d18c31b71",
   "metadata": {},
   "source": [
    "### Introduction to the Data\n",
    "The dataset used is a dataset of the message histories of Vincent and Kevin on a particular server/direct message on Discord.  \n",
    "Any message log on discord is recorded as a csv with the following attributes:  \n",
    "1. Their ID's\n",
    "1. Their Timestamp\n",
    "1. Their Contents of the message\n",
    "    - Contents are usually just the words in the message or any mentions\n",
    "1. Their Attachments of the message\n",
    "    - A message may not have any attachments\n",
    "\n",
    "The follow attributes extracted from the data are as follows:\n",
    "1. ID of the message\n",
    "    - The higher the ID, the older the message\n",
    "1. Timestamp of the message\n",
    "    - Timestamps consist of the following:\n",
    "        - The Date of the message\n",
    "        - The exact time of the message\n",
    "1. The length of the message\n",
    "    - We find the length by how many characters there are in the in the message\n",
    "1. Punctuation count of the message\n",
    "    - Any of the following count as punctuation in the dataset: `., ?, !`"
   ]
  },
  {
   "cell_type": "markdown",
   "id": "bd2873a8-bc2a-4224-b360-d8af21f04819",
   "metadata": {},
   "source": [
    "### Cleaning the Data\n",
    "Since the attributes we are taking are the `ID, Timestamp, message length, and punctuation`, we need to clean the data to get a dataset with these attributes."
   ]
  },
  {
   "cell_type": "code",
   "execution_count": 13,
   "id": "4b96d31b-d372-49d2-a535-42dc61b6a4c4",
   "metadata": {},
   "outputs": [
    {
     "name": "stdout",
     "output_type": "stream",
     "text": [
      "                                           Timestamp  Message Length  \\\n",
      "ID                                                                     \n",
      "886368172259823626  2021-09-11 21:50:40.191000+00:00              25   \n",
      "886368155776217138  2021-09-11 21:50:36.261000+00:00              25   \n",
      "886124701859078165  2021-09-11 05:43:12.324000+00:00              14   \n",
      "886124680203882526  2021-09-11 05:43:07.161000+00:00               3   \n",
      "885205982018424892  2021-09-08 16:52:32.445000+00:00               4   \n",
      "...                                              ...             ...   \n",
      "229739861148434432  2016-09-25 23:04:11.258000+00:00              49   \n",
      "229739761722458112  2016-09-25 23:03:47.553000+00:00              50   \n",
      "229734380916965377  2016-09-25 22:42:24.669000+00:00              43   \n",
      "229733647358492673  2016-09-25 22:39:29.775000+00:00              27   \n",
      "229733601850163211  2016-09-25 22:39:18.925000+00:00              10   \n",
      "\n",
      "                    Punctuation Count  \n",
      "ID                                     \n",
      "886368172259823626                  0  \n",
      "886368155776217138                  0  \n",
      "886124701859078165                  0  \n",
      "886124680203882526                  0  \n",
      "885205982018424892                  0  \n",
      "...                               ...  \n",
      "229739861148434432                  3  \n",
      "229739761722458112                  3  \n",
      "229734380916965377                  3  \n",
      "229733647358492673                  0  \n",
      "229733601850163211                  0  \n",
      "\n",
      "[9886 rows x 3 columns]\n"
     ]
    }
   ],
   "source": [
    "import pandas as pd\n",
    "\n",
    "file = \"messages\"\n",
    "\n",
    "channel_df = pd.read_csv(file + \".csv\", index_col=\"ID\")             # read in the discord dataset\n",
    "\n",
    "length = []                     # list to keep all the len of all messages\n",
    "punct = []                      # list to keep all punct of all messages\n",
    "\n",
    "for message in channel_df[\"Contents\"]:\n",
    "    msg = str(message)          # current content in message\n",
    "    length.append(len(msg))     # length of the message\n",
    "    count = 0                   # will hold punctuation count\n",
    "    if \".\" in msg or \"!\" in msg or \"?\" in msg:\n",
    "        count += msg.count(\".\") + msg.count(\"!\") + msg.count(\"?\")\n",
    "    punct.append(count)\n",
    "\n",
    "# set values in the data\n",
    "channel_df[\"Message Length\"] = length                               # inserting a column for message len\n",
    "channel_df[\"Punctuation Count\"] = punct                             # inserting a column for punct count\n",
    "channel_df.drop(columns=[\"Contents\", \"Attachments\"], inplace=True)  # removing unused columns of data\n",
    "channel_df.to_csv(file + \"_cleaned.csv\")                            # save the dataset to a file\n",
    "\n",
    "print(channel_df)"
   ]
  },
  {
   "cell_type": "markdown",
   "id": "dabc5239-3160-4ab3-9a9e-4e18643976bf",
   "metadata": {},
   "source": [
    "### Visualize the Data\n",
    "#### Length of Messages\n",
    "With the dataset above, we want to see how the long messages are over the years"
   ]
  },
  {
   "cell_type": "code",
   "execution_count": 14,
   "id": "f477c4b1-34d8-4b79-bce8-f91cb856e42b",
   "metadata": {},
   "outputs": [
    {
     "data": {
      "image/png": "[encoded data removed]",
      "text/plain": [
       "<Figure size 432x288 with 1 Axes>"
      ]
     },
     "metadata": {
      "needs_background": "light"
     },
     "output_type": "display_data"
    }
   ],
   "source": [
    "import matplotlib.pyplot as plt\n",
    "\n",
    "# visualizing the length of messages\n",
    "df = pd.read_csv(file + \"_cleaned.csv\")\n",
    "plt.figure()\n",
    "i = 1\n",
    "\n",
    "for length in df[\"Message Length\"]:\n",
    "    plt.bar([i], [length])\n",
    "    i += 1\n",
    "\n",
    "plt.xlim(0, len(df) + 1)\n",
    "plt.ylim(0, 200)\n",
    "plt.xlabel(\"Message ID\")\n",
    "plt.ylabel(\"Message length\")\n",
    "plt.title(\"User's Message History Length's\")\n",
    "plt.show()"
   ]
  },
  {
   "cell_type": "markdown",
   "id": "87f59b3d-5de0-4d32-9f3f-a033939233c3",
   "metadata": {},
   "source": [
    "#### Punctuation of Messages\n",
    "Now we want to see how our punctuation is over the years"
   ]
  },
  {
   "cell_type": "code",
   "execution_count": 18,
   "id": "2a619fb9-ec7f-4a02-b6c6-1e77a1362e86",
   "metadata": {},
   "outputs": [
    {
     "data": {
      "image/png": "[encoded data removed]",
      "text/plain": [
       "<Figure size 432x288 with 1 Axes>"
      ]
     },
     "metadata": {
      "needs_background": "light"
     },
     "output_type": "display_data"
    }
   ],
   "source": [
    "# visualizing the punctuation count in a user's message history\n",
    "df = pd.read_csv(file + \"_cleaned.csv\")\n",
    "plt.figure()\n",
    "i = 1\n",
    "\n",
    "for length in df[\"Punctuation Count\"]:\n",
    "    plt.bar([i], [length])\n",
    "    i += 1\n",
    "    \n",
    "plt.xlim(0, len(df) + 1)\n",
    "plt.ylim(0, 30)\n",
    "plt.xlabel(\"Message ID\")\n",
    "plt.ylabel(\"Punctuation Count\")\n",
    "plt.title(\"User's Message History Punctuation\")\n",
    "plt.show()"
   ]
  },
  {
   "cell_type": "markdown",
   "id": "fe9af859-bd70-48e4-b2d5-a5559086b429",
   "metadata": {},
   "source": [
    "# Data Analysis"
   ]
  },
  {
   "cell_type": "markdown",
   "id": "fc9b793b-bf25-43e3-8f88-41bbeba5a07c",
   "metadata": {},
   "source": [
    "### What we want to know\n",
    "With the cleaned data, we want to dive into a few things.\n",
    "1. We want to aggregate our data to see the significant statistics of our data.\n",
    "    - We will also just do a data analysis and create assumptions to test.\n",
    "1. We want to compare our punctuation by years.\n",
    "    - We will need to split the data by year.\n",
    "    - We want to statistically compare two different years.\n",
    "    - For this test, we will compare the earliest year's punctuation and the latest year's punctuation and see how they differ.\n",
    "        - We will do this test per for both datasets\n",
    "        - After the test, we will analyze what it means for our punctuation to change over time.\n",
    "    \n",
    "1. We want to compare each other's message lengths over time.\n",
    "    - We want to see who's message length over the amount of messages is greater.\n",
    "    - For this test, we want to assume that Vincent's average word count is more than Kevin's average word count."
   ]
  },
  {
   "cell_type": "markdown",
   "id": "c8c16224-61c3-49a6-b5d6-eba0ab1e0659",
   "metadata": {},
   "source": [
    "### Aggregating the Data"
   ]
  },
  {
   "cell_type": "code",
   "execution_count": null,
   "id": "36898bf2-7323-4676-97f6-d20cdfb0e519",
   "metadata": {},
   "outputs": [],
   "source": []
  },
  {
   "cell_type": "markdown",
   "id": "4bb35431-2d1f-4196-92d9-d9f364b9af21",
   "metadata": {},
   "source": [
    "### Comparing Punctuation"
   ]
  },
  {
   "cell_type": "code",
   "execution_count": null,
   "id": "0557d017-166b-4299-974c-ec5041e41eab",
   "metadata": {},
   "outputs": [],
   "source": []
  },
  {
   "cell_type": "markdown",
   "id": "c9e25d5f-0263-4899-9210-63c1a75b098e",
   "metadata": {},
   "source": [
    "### Comparing Message Lengths"
   ]
  },
  {
   "cell_type": "code",
   "execution_count": null,
   "id": "8234246f-f264-4bb9-a3ae-5572ec1571f6",
   "metadata": {},
   "outputs": [],
   "source": []
  },
  {
   "cell_type": "markdown",
   "id": "237a0979-8519-404f-b015-f6958d70f7c8",
   "metadata": {},
   "source": [
    "# Classification"
   ]
  },
  {
   "cell_type": "markdown",
   "id": "461907c4-02db-4511-b6d2-ad06f258fcf9",
   "metadata": {},
   "source": [
    "# Conclusion"
   ]
  },
  {
   "cell_type": "code",
   "execution_count": null,
   "id": "ec4797b1-b468-4fc7-96de-569acb319056",
   "metadata": {},
   "outputs": [],
   "source": []
  }
 ],
 "metadata": {
  "kernelspec": {
   "display_name": "Python 3",
   "language": "python",
   "name": "python3"
  },
  "language_info": {
   "codemirror_mode": {
    "name": "ipython",
    "version": 3
   },
   "file_extension": ".py",
   "mimetype": "text/x-python",
   "name": "python",
   "nbconvert_exporter": "python",
   "pygments_lexer": "ipython3",
   "version": "3.8.8"
  }
 },
 "nbformat": 4,
 "nbformat_minor": 5
}
